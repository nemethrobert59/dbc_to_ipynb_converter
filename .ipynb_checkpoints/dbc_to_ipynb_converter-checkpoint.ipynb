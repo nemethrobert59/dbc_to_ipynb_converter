{
 "cells": [
  {
   "cell_type": "code",
   "execution_count": 128,
   "id": "d88f1d90",
   "metadata": {},
   "outputs": [],
   "source": [
    "# Change this fileLocation if necessary\n",
    "# Subsequent downloads might be called 'Databricks (1).dbc', etc.\n",
    "source_FileLocation = r'path_to_your_dbc_file.dbc'\n",
    "output_FileLocation = r'path_to_output_directory'"
   ]
  },
  {
   "cell_type": "code",
   "execution_count": 129,
   "id": "2975e527",
   "metadata": {
    "collapsed": true
   },
   "outputs": [
    {
     "name": "stdout",
     "output_type": "stream",
     "text": [
      "*** Contents from the .dbc file (usually one file or a directory) ***\n",
      "\n",
      "['introduction-to-python-for-data-science-and-data-engineering-english', 'manifest.mf']\n"
     ]
    }
   ],
   "source": [
    "# Extract dbc file\n",
    "\n",
    "# Cleanup from prior run\n",
    "import shutil\n",
    "try: shutil.rmtree('tmp_dbc')\n",
    "except OSError: pass\n",
    "\n",
    "import zipfile\n",
    "import os\n",
    "try: os.mkdir('tmp_dbc')\n",
    "except OSError: pass\n",
    "with zipfile.ZipFile(source_FileLocation, 'r') as z:\n",
    "    z.extractall('tmp_dbc')\n",
    "\n",
    "print('*** Contents from the .dbc file (usually one file or a directory) ***\\n')\n",
    "print(os.listdir('tmp_dbc'))"
   ]
  },
  {
   "cell_type": "code",
   "execution_count": 130,
   "id": "ecefed6f",
   "metadata": {
    "collapsed": true
   },
   "outputs": [
    {
     "name": "stdout",
     "output_type": "stream",
     "text": [
      "*** Files to be created (relative to your current working directory) ***\n",
      "(Warning: files will be overwritten!)\n",
      "\n",
      "C:\\Users\\nemet\\OneDrive\\Dokumentumok\\Databricks\\introduction-to-python-for-data-science-and-data-engineering-english\\AGENDA_export.ipynb\n",
      "C:\\Users\\nemet\\OneDrive\\Dokumentumok\\Databricks\\introduction-to-python-for-data-science-and-data-engineering-english\\ITP 00 - Databricks Environment_export.ipynb\n",
      "C:\\Users\\nemet\\OneDrive\\Dokumentumok\\Databricks\\introduction-to-python-for-data-science-and-data-engineering-english\\ITP 01 - Data Types and Variables_export.ipynb\n",
      "C:\\Users\\nemet\\OneDrive\\Dokumentumok\\Databricks\\introduction-to-python-for-data-science-and-data-engineering-english\\ITP 02 - Control Flow_export.ipynb\n",
      "C:\\Users\\nemet\\OneDrive\\Dokumentumok\\Databricks\\introduction-to-python-for-data-science-and-data-engineering-english\\ITP 03 - Functions_export.ipynb\n",
      "C:\\Users\\nemet\\OneDrive\\Dokumentumok\\Databricks\\introduction-to-python-for-data-science-and-data-engineering-english\\ITP 04 - Collection Types and Methods_export.ipynb\n",
      "C:\\Users\\nemet\\OneDrive\\Dokumentumok\\Databricks\\introduction-to-python-for-data-science-and-data-engineering-english\\ITP 05 - Loops_export.ipynb\n",
      "C:\\Users\\nemet\\OneDrive\\Dokumentumok\\Databricks\\introduction-to-python-for-data-science-and-data-engineering-english\\ITP 06 - Exceptions_export.ipynb\n",
      "C:\\Users\\nemet\\OneDrive\\Dokumentumok\\Databricks\\introduction-to-python-for-data-science-and-data-engineering-english\\ITP 07 - Classes_export.ipynb\n",
      "C:\\Users\\nemet\\OneDrive\\Dokumentumok\\Databricks\\introduction-to-python-for-data-science-and-data-engineering-english\\ITP 08 - Cloud Computing 101_export.ipynb\n",
      "C:\\Users\\nemet\\OneDrive\\Dokumentumok\\Databricks\\introduction-to-python-for-data-science-and-data-engineering-english\\ITP 09 - Libraries_export.ipynb\n",
      "C:\\Users\\nemet\\OneDrive\\Dokumentumok\\Databricks\\introduction-to-python-for-data-science-and-data-engineering-english\\ITP 10 - Pandas Overview_export.ipynb\n",
      "C:\\Users\\nemet\\OneDrive\\Dokumentumok\\Databricks\\introduction-to-python-for-data-science-and-data-engineering-english\\ITP 11 - Advanced Pandas_export.ipynb\n",
      "C:\\Users\\nemet\\OneDrive\\Dokumentumok\\Databricks\\introduction-to-python-for-data-science-and-data-engineering-english\\ITP 12 - Data Visualization_export.ipynb\n",
      "C:\\Users\\nemet\\OneDrive\\Dokumentumok\\Databricks\\introduction-to-python-for-data-science-and-data-engineering-english\\ITP 13 - Scaling Pandas with Spark_export.ipynb\n",
      "C:\\Users\\nemet\\OneDrive\\Dokumentumok\\Databricks\\introduction-to-python-for-data-science-and-data-engineering-english\\ITP 14 - Additional Resources_export.ipynb\n",
      "C:\\Users\\nemet\\OneDrive\\Dokumentumok\\Databricks\\introduction-to-python-for-data-science-and-data-engineering-english\\Version Info_export.ipynb\n",
      "C:\\Users\\nemet\\OneDrive\\Dokumentumok\\Databricks\\introduction-to-python-for-data-science-and-data-engineering-english\\Includes\\Classroom-Setup_export.ipynb\n",
      "C:\\Users\\nemet\\OneDrive\\Dokumentumok\\Databricks\\introduction-to-python-for-data-science-and-data-engineering-english\\Includes\\Print-Dataset-Copyrights_export.ipynb\n",
      "C:\\Users\\nemet\\OneDrive\\Dokumentumok\\Databricks\\introduction-to-python-for-data-science-and-data-engineering-english\\Includes\\Reset_export.ipynb\n",
      "C:\\Users\\nemet\\OneDrive\\Dokumentumok\\Databricks\\introduction-to-python-for-data-science-and-data-engineering-english\\Includes\\run_example_export.ipynb\n",
      "C:\\Users\\nemet\\OneDrive\\Dokumentumok\\Databricks\\introduction-to-python-for-data-science-and-data-engineering-english\\Includes\\Workspace-Setup_export.ipynb\n",
      "C:\\Users\\nemet\\OneDrive\\Dokumentumok\\Databricks\\introduction-to-python-for-data-science-and-data-engineering-english\\Includes\\_common_export.ipynb\n",
      "C:\\Users\\nemet\\OneDrive\\Dokumentumok\\Databricks\\introduction-to-python-for-data-science-and-data-engineering-english\\Includes\\_dataset_index_export.ipynb\n",
      "C:\\Users\\nemet\\OneDrive\\Dokumentumok\\Databricks\\introduction-to-python-for-data-science-and-data-engineering-english\\Labs\\ITP 01L - Data Types and Variables Lab_export.ipynb\n",
      "C:\\Users\\nemet\\OneDrive\\Dokumentumok\\Databricks\\introduction-to-python-for-data-science-and-data-engineering-english\\Labs\\ITP 02L - Control Flow Lab_export.ipynb\n",
      "C:\\Users\\nemet\\OneDrive\\Dokumentumok\\Databricks\\introduction-to-python-for-data-science-and-data-engineering-english\\Labs\\ITP 03L - Functions Lab_export.ipynb\n",
      "C:\\Users\\nemet\\OneDrive\\Dokumentumok\\Databricks\\introduction-to-python-for-data-science-and-data-engineering-english\\Labs\\ITP 04L - Collection Types and Methods Lab_export.ipynb\n",
      "C:\\Users\\nemet\\OneDrive\\Dokumentumok\\Databricks\\introduction-to-python-for-data-science-and-data-engineering-english\\Labs\\ITP 05L - Loops Lab_export.ipynb\n",
      "C:\\Users\\nemet\\OneDrive\\Dokumentumok\\Databricks\\introduction-to-python-for-data-science-and-data-engineering-english\\Labs\\ITP 07L - Classes Lab_export.ipynb\n",
      "C:\\Users\\nemet\\OneDrive\\Dokumentumok\\Databricks\\introduction-to-python-for-data-science-and-data-engineering-english\\Labs\\ITP 10L - Pandas Overview Lab_export.ipynb\n",
      "C:\\Users\\nemet\\OneDrive\\Dokumentumok\\Databricks\\introduction-to-python-for-data-science-and-data-engineering-english\\Labs\\ITP 11L - Advanced Pandas Lab_export.ipynb\n",
      "C:\\Users\\nemet\\OneDrive\\Dokumentumok\\Databricks\\introduction-to-python-for-data-science-and-data-engineering-english\\Labs\\ITP 12L - Data Visualization Lab_export.ipynb\n",
      "C:\\Users\\nemet\\OneDrive\\Dokumentumok\\Databricks\\introduction-to-python-for-data-science-and-data-engineering-english\\Solutions\\AGENDA_export.ipynb\n",
      "C:\\Users\\nemet\\OneDrive\\Dokumentumok\\Databricks\\introduction-to-python-for-data-science-and-data-engineering-english\\Solutions\\ITP 00 - Databricks Environment_export.ipynb\n",
      "C:\\Users\\nemet\\OneDrive\\Dokumentumok\\Databricks\\introduction-to-python-for-data-science-and-data-engineering-english\\Solutions\\ITP 01 - Data Types and Variables_export.ipynb\n",
      "C:\\Users\\nemet\\OneDrive\\Dokumentumok\\Databricks\\introduction-to-python-for-data-science-and-data-engineering-english\\Solutions\\ITP 02 - Control Flow_export.ipynb\n",
      "C:\\Users\\nemet\\OneDrive\\Dokumentumok\\Databricks\\introduction-to-python-for-data-science-and-data-engineering-english\\Solutions\\ITP 03 - Functions_export.ipynb\n",
      "C:\\Users\\nemet\\OneDrive\\Dokumentumok\\Databricks\\introduction-to-python-for-data-science-and-data-engineering-english\\Solutions\\ITP 04 - Collection Types and Methods_export.ipynb\n",
      "C:\\Users\\nemet\\OneDrive\\Dokumentumok\\Databricks\\introduction-to-python-for-data-science-and-data-engineering-english\\Solutions\\ITP 05 - Loops_export.ipynb\n",
      "C:\\Users\\nemet\\OneDrive\\Dokumentumok\\Databricks\\introduction-to-python-for-data-science-and-data-engineering-english\\Solutions\\ITP 06 - Exceptions_export.ipynb\n",
      "C:\\Users\\nemet\\OneDrive\\Dokumentumok\\Databricks\\introduction-to-python-for-data-science-and-data-engineering-english\\Solutions\\ITP 07 - Classes_export.ipynb\n",
      "C:\\Users\\nemet\\OneDrive\\Dokumentumok\\Databricks\\introduction-to-python-for-data-science-and-data-engineering-english\\Solutions\\ITP 08 - Cloud Computing 101_export.ipynb\n",
      "C:\\Users\\nemet\\OneDrive\\Dokumentumok\\Databricks\\introduction-to-python-for-data-science-and-data-engineering-english\\Solutions\\ITP 09 - Libraries_export.ipynb\n",
      "C:\\Users\\nemet\\OneDrive\\Dokumentumok\\Databricks\\introduction-to-python-for-data-science-and-data-engineering-english\\Solutions\\ITP 10 - Pandas Overview_export.ipynb\n",
      "C:\\Users\\nemet\\OneDrive\\Dokumentumok\\Databricks\\introduction-to-python-for-data-science-and-data-engineering-english\\Solutions\\ITP 11 - Advanced Pandas_export.ipynb\n",
      "C:\\Users\\nemet\\OneDrive\\Dokumentumok\\Databricks\\introduction-to-python-for-data-science-and-data-engineering-english\\Solutions\\ITP 12 - Data Visualization_export.ipynb\n",
      "C:\\Users\\nemet\\OneDrive\\Dokumentumok\\Databricks\\introduction-to-python-for-data-science-and-data-engineering-english\\Solutions\\ITP 13 - Scaling Pandas with Spark_export.ipynb\n",
      "C:\\Users\\nemet\\OneDrive\\Dokumentumok\\Databricks\\introduction-to-python-for-data-science-and-data-engineering-english\\Solutions\\ITP 14 - Additional Resources_export.ipynb\n",
      "C:\\Users\\nemet\\OneDrive\\Dokumentumok\\Databricks\\introduction-to-python-for-data-science-and-data-engineering-english\\Solutions\\Version Info_export.ipynb\n",
      "C:\\Users\\nemet\\OneDrive\\Dokumentumok\\Databricks\\introduction-to-python-for-data-science-and-data-engineering-english\\Solutions\\Includes\\Classroom-Setup_export.ipynb\n",
      "C:\\Users\\nemet\\OneDrive\\Dokumentumok\\Databricks\\introduction-to-python-for-data-science-and-data-engineering-english\\Solutions\\Includes\\Print-Dataset-Copyrights_export.ipynb\n",
      "C:\\Users\\nemet\\OneDrive\\Dokumentumok\\Databricks\\introduction-to-python-for-data-science-and-data-engineering-english\\Solutions\\Includes\\run_example_export.ipynb\n",
      "C:\\Users\\nemet\\OneDrive\\Dokumentumok\\Databricks\\introduction-to-python-for-data-science-and-data-engineering-english\\Solutions\\Includes\\_common_export.ipynb\n",
      "C:\\Users\\nemet\\OneDrive\\Dokumentumok\\Databricks\\introduction-to-python-for-data-science-and-data-engineering-english\\Solutions\\Includes\\_dataset_index_export.ipynb\n",
      "C:\\Users\\nemet\\OneDrive\\Dokumentumok\\Databricks\\introduction-to-python-for-data-science-and-data-engineering-english\\Solutions\\Labs\\ITP 01L - Data Types and Variables Lab_export.ipynb\n",
      "C:\\Users\\nemet\\OneDrive\\Dokumentumok\\Databricks\\introduction-to-python-for-data-science-and-data-engineering-english\\Solutions\\Labs\\ITP 02L - Control Flow Lab_export.ipynb\n",
      "C:\\Users\\nemet\\OneDrive\\Dokumentumok\\Databricks\\introduction-to-python-for-data-science-and-data-engineering-english\\Solutions\\Labs\\ITP 03L - Functions Lab_export.ipynb\n",
      "C:\\Users\\nemet\\OneDrive\\Dokumentumok\\Databricks\\introduction-to-python-for-data-science-and-data-engineering-english\\Solutions\\Labs\\ITP 04L - Collection Types and Methods Lab_export.ipynb\n",
      "C:\\Users\\nemet\\OneDrive\\Dokumentumok\\Databricks\\introduction-to-python-for-data-science-and-data-engineering-english\\Solutions\\Labs\\ITP 05L - Loops Lab_export.ipynb\n",
      "C:\\Users\\nemet\\OneDrive\\Dokumentumok\\Databricks\\introduction-to-python-for-data-science-and-data-engineering-english\\Solutions\\Labs\\ITP 07L - Classes Lab_export.ipynb\n",
      "C:\\Users\\nemet\\OneDrive\\Dokumentumok\\Databricks\\introduction-to-python-for-data-science-and-data-engineering-english\\Solutions\\Labs\\ITP 10L - Pandas Overview Lab_export.ipynb\n",
      "C:\\Users\\nemet\\OneDrive\\Dokumentumok\\Databricks\\introduction-to-python-for-data-science-and-data-engineering-english\\Solutions\\Labs\\ITP 11L - Advanced Pandas Lab_export.ipynb\n",
      "C:\\Users\\nemet\\OneDrive\\Dokumentumok\\Databricks\\introduction-to-python-for-data-science-and-data-engineering-english\\Solutions\\Labs\\ITP 12L - Data Visualization Lab_export.ipynb\n"
     ]
    }
   ],
   "source": [
    "# Find files to parse\n",
    "import fnmatch\n",
    "\n",
    "filesToParse = []\n",
    "for root, dirNames, fileNames in os.walk('tmp_dbc'):\n",
    "    for fileName in fnmatch.filter(fileNames, '*.python'):\n",
    "        filesToParse.append((root, fileName))\n",
    "\n",
    "def getIpynbName(path, fileName):\n",
    "    newFileName = os.path.splitext(fileName)[0] + '_export.ipynb'\n",
    "    subDir = path.replace('tmp_dbc\\\\','')\n",
    "    baseDir = os.path.join(output_FileLocation,subDir)\n",
    "    return os.path.join(baseDir, newFileName)\n",
    "\n",
    "print(\"*** Files to be created on the specified output_FileLocation path ***\")\n",
    "print(\"(Warning: files will be overwritten!)\\n\")\n",
    "for path, fileName in filesToParse:\n",
    "    print(getIpynbName(path, fileName))"
   ]
  },
  {
   "cell_type": "code",
   "execution_count": 131,
   "id": "32fc4e9a",
   "metadata": {
    "collapsed": true
   },
   "outputs": [],
   "source": [
    "# Create the IPython Notebooks\n",
    "# Convert .python files to .ipynb files\n",
    "import codecs\n",
    "import nbformat\n",
    "from nbformat.v3.nbpy import PyReader\n",
    "import json\n",
    "import re\n",
    "\n",
    "_header = u'# -*- coding: utf-8 -*-\\n# <nbformat>3.0</nbformat>\\n'\n",
    "_markdownCell = u'\\n\\n# <markdowncell>\\n\\n'\n",
    "_codeCell = u'\\n\\n# <codecell>\\n\\n'\n",
    "\n",
    "def convertToIpynb(fileToParse):\n",
    "    \n",
    "    with codecs.open(os.path.join(*fileToParse), encoding=\"utf-8\") as fp:\n",
    "        jsonData = json.load(fp)\n",
    "        commands = jsonData['commands']\n",
    "        commandInfo = [(x['position'], x['command']) for x in commands]\n",
    "        commandList = sorted(commandInfo)\n",
    "\n",
    "    with codecs.open('tmp_ipynb.py', 'w', encoding=\"utf-8\") as fp:\n",
    "        fp.write(_header)\n",
    "        fp.write(_codeCell)\n",
    "\n",
    "        for position, command in commandList:\n",
    "            if re.match(r'\\s*%md', command):\n",
    "                # Add any custom texts which need to be replaced\n",
    "                command = re.sub(r'^\\s*%md', '', command, flags=re.MULTILINE)\n",
    "                command = re.sub(r'-sandbox', '', command, flags=re.MULTILINE)\n",
    "                command = re.sub(r'(%\\(|\\)%)', '$', command)\n",
    "                command = re.sub(r'(%\\[|\\]%)', '$$', command)\n",
    "\n",
    "                fp.write(_markdownCell)\n",
    "                asLines = command.split('\\n')\n",
    "                command = '# ' + '\\n# '.join(asLines)\n",
    "            else:\n",
    "                command = re.sub(r'^\\s*baseDir\\s*=.*$', 'baseDir = \\'data\\'', \n",
    "                                 command, flags=re.MULTILINE)\n",
    "                fp.write(_codeCell)\n",
    "\n",
    "            fp.write(command)\n",
    "\n",
    "    outputName = getIpynbName(fileToParse[0],fileToParse[1])\n",
    "\n",
    "    with codecs.open('tmp_ipynb.py', 'r', encoding=\"utf-8\") as intermediate:\n",
    "        nb = PyReader().read(intermediate)\n",
    "\n",
    "    os.remove('tmp_ipynb.py')\n",
    "    baseDirectory = os.path.split(outputName)[0]\n",
    "    \n",
    "    if not os.path.isdir(baseDirectory):\n",
    "        os.makedirs(baseDirectory)\n",
    "\n",
    "    with codecs.open(outputName, 'w', encoding=\"utf-8\") as output:\n",
    "        nbformat.write(nbformat.convert(nb, 4.0), output)  \n",
    "        print('Created: {0}'.format(outputName))"
   ]
  },
  {
   "cell_type": "code",
   "execution_count": 132,
   "id": "375c9276",
   "metadata": {
    "collapsed": true
   },
   "outputs": [
    {
     "name": "stdout",
     "output_type": "stream",
     "text": [
      "Created: C:\\Users\\nemet\\OneDrive\\Dokumentumok\\Databricks\\introduction-to-python-for-data-science-and-data-engineering-english\\AGENDA_export.ipynb\n",
      "Created: C:\\Users\\nemet\\OneDrive\\Dokumentumok\\Databricks\\introduction-to-python-for-data-science-and-data-engineering-english\\ITP 00 - Databricks Environment_export.ipynb\n",
      "Created: C:\\Users\\nemet\\OneDrive\\Dokumentumok\\Databricks\\introduction-to-python-for-data-science-and-data-engineering-english\\ITP 01 - Data Types and Variables_export.ipynb\n",
      "Created: C:\\Users\\nemet\\OneDrive\\Dokumentumok\\Databricks\\introduction-to-python-for-data-science-and-data-engineering-english\\ITP 02 - Control Flow_export.ipynb\n",
      "Created: C:\\Users\\nemet\\OneDrive\\Dokumentumok\\Databricks\\introduction-to-python-for-data-science-and-data-engineering-english\\ITP 03 - Functions_export.ipynb\n",
      "Created: C:\\Users\\nemet\\OneDrive\\Dokumentumok\\Databricks\\introduction-to-python-for-data-science-and-data-engineering-english\\ITP 04 - Collection Types and Methods_export.ipynb\n",
      "Created: C:\\Users\\nemet\\OneDrive\\Dokumentumok\\Databricks\\introduction-to-python-for-data-science-and-data-engineering-english\\ITP 05 - Loops_export.ipynb\n",
      "Created: C:\\Users\\nemet\\OneDrive\\Dokumentumok\\Databricks\\introduction-to-python-for-data-science-and-data-engineering-english\\ITP 06 - Exceptions_export.ipynb\n",
      "Created: C:\\Users\\nemet\\OneDrive\\Dokumentumok\\Databricks\\introduction-to-python-for-data-science-and-data-engineering-english\\ITP 07 - Classes_export.ipynb\n",
      "Created: C:\\Users\\nemet\\OneDrive\\Dokumentumok\\Databricks\\introduction-to-python-for-data-science-and-data-engineering-english\\ITP 08 - Cloud Computing 101_export.ipynb\n",
      "Created: C:\\Users\\nemet\\OneDrive\\Dokumentumok\\Databricks\\introduction-to-python-for-data-science-and-data-engineering-english\\ITP 09 - Libraries_export.ipynb\n",
      "Created: C:\\Users\\nemet\\OneDrive\\Dokumentumok\\Databricks\\introduction-to-python-for-data-science-and-data-engineering-english\\ITP 10 - Pandas Overview_export.ipynb\n",
      "Created: C:\\Users\\nemet\\OneDrive\\Dokumentumok\\Databricks\\introduction-to-python-for-data-science-and-data-engineering-english\\ITP 11 - Advanced Pandas_export.ipynb\n",
      "Created: C:\\Users\\nemet\\OneDrive\\Dokumentumok\\Databricks\\introduction-to-python-for-data-science-and-data-engineering-english\\ITP 12 - Data Visualization_export.ipynb\n",
      "Created: C:\\Users\\nemet\\OneDrive\\Dokumentumok\\Databricks\\introduction-to-python-for-data-science-and-data-engineering-english\\ITP 13 - Scaling Pandas with Spark_export.ipynb\n",
      "Created: C:\\Users\\nemet\\OneDrive\\Dokumentumok\\Databricks\\introduction-to-python-for-data-science-and-data-engineering-english\\ITP 14 - Additional Resources_export.ipynb\n",
      "Created: C:\\Users\\nemet\\OneDrive\\Dokumentumok\\Databricks\\introduction-to-python-for-data-science-and-data-engineering-english\\Version Info_export.ipynb\n",
      "Created: C:\\Users\\nemet\\OneDrive\\Dokumentumok\\Databricks\\introduction-to-python-for-data-science-and-data-engineering-english\\Includes\\Classroom-Setup_export.ipynb\n",
      "Created: C:\\Users\\nemet\\OneDrive\\Dokumentumok\\Databricks\\introduction-to-python-for-data-science-and-data-engineering-english\\Includes\\Print-Dataset-Copyrights_export.ipynb\n",
      "Created: C:\\Users\\nemet\\OneDrive\\Dokumentumok\\Databricks\\introduction-to-python-for-data-science-and-data-engineering-english\\Includes\\Reset_export.ipynb\n",
      "Created: C:\\Users\\nemet\\OneDrive\\Dokumentumok\\Databricks\\introduction-to-python-for-data-science-and-data-engineering-english\\Includes\\run_example_export.ipynb\n",
      "Created: C:\\Users\\nemet\\OneDrive\\Dokumentumok\\Databricks\\introduction-to-python-for-data-science-and-data-engineering-english\\Includes\\Workspace-Setup_export.ipynb\n",
      "Created: C:\\Users\\nemet\\OneDrive\\Dokumentumok\\Databricks\\introduction-to-python-for-data-science-and-data-engineering-english\\Includes\\_common_export.ipynb\n",
      "Created: C:\\Users\\nemet\\OneDrive\\Dokumentumok\\Databricks\\introduction-to-python-for-data-science-and-data-engineering-english\\Includes\\_dataset_index_export.ipynb\n",
      "Created: C:\\Users\\nemet\\OneDrive\\Dokumentumok\\Databricks\\introduction-to-python-for-data-science-and-data-engineering-english\\Labs\\ITP 01L - Data Types and Variables Lab_export.ipynb\n",
      "Created: C:\\Users\\nemet\\OneDrive\\Dokumentumok\\Databricks\\introduction-to-python-for-data-science-and-data-engineering-english\\Labs\\ITP 02L - Control Flow Lab_export.ipynb\n",
      "Created: C:\\Users\\nemet\\OneDrive\\Dokumentumok\\Databricks\\introduction-to-python-for-data-science-and-data-engineering-english\\Labs\\ITP 03L - Functions Lab_export.ipynb\n",
      "Created: C:\\Users\\nemet\\OneDrive\\Dokumentumok\\Databricks\\introduction-to-python-for-data-science-and-data-engineering-english\\Labs\\ITP 04L - Collection Types and Methods Lab_export.ipynb\n",
      "Created: C:\\Users\\nemet\\OneDrive\\Dokumentumok\\Databricks\\introduction-to-python-for-data-science-and-data-engineering-english\\Labs\\ITP 05L - Loops Lab_export.ipynb\n",
      "Created: C:\\Users\\nemet\\OneDrive\\Dokumentumok\\Databricks\\introduction-to-python-for-data-science-and-data-engineering-english\\Labs\\ITP 07L - Classes Lab_export.ipynb\n",
      "Created: C:\\Users\\nemet\\OneDrive\\Dokumentumok\\Databricks\\introduction-to-python-for-data-science-and-data-engineering-english\\Labs\\ITP 10L - Pandas Overview Lab_export.ipynb\n",
      "Created: C:\\Users\\nemet\\OneDrive\\Dokumentumok\\Databricks\\introduction-to-python-for-data-science-and-data-engineering-english\\Labs\\ITP 11L - Advanced Pandas Lab_export.ipynb\n",
      "Created: C:\\Users\\nemet\\OneDrive\\Dokumentumok\\Databricks\\introduction-to-python-for-data-science-and-data-engineering-english\\Labs\\ITP 12L - Data Visualization Lab_export.ipynb\n",
      "Created: C:\\Users\\nemet\\OneDrive\\Dokumentumok\\Databricks\\introduction-to-python-for-data-science-and-data-engineering-english\\Solutions\\AGENDA_export.ipynb\n",
      "Created: C:\\Users\\nemet\\OneDrive\\Dokumentumok\\Databricks\\introduction-to-python-for-data-science-and-data-engineering-english\\Solutions\\ITP 00 - Databricks Environment_export.ipynb\n",
      "Created: C:\\Users\\nemet\\OneDrive\\Dokumentumok\\Databricks\\introduction-to-python-for-data-science-and-data-engineering-english\\Solutions\\ITP 01 - Data Types and Variables_export.ipynb\n",
      "Created: C:\\Users\\nemet\\OneDrive\\Dokumentumok\\Databricks\\introduction-to-python-for-data-science-and-data-engineering-english\\Solutions\\ITP 02 - Control Flow_export.ipynb\n",
      "Created: C:\\Users\\nemet\\OneDrive\\Dokumentumok\\Databricks\\introduction-to-python-for-data-science-and-data-engineering-english\\Solutions\\ITP 03 - Functions_export.ipynb\n",
      "Created: C:\\Users\\nemet\\OneDrive\\Dokumentumok\\Databricks\\introduction-to-python-for-data-science-and-data-engineering-english\\Solutions\\ITP 04 - Collection Types and Methods_export.ipynb\n",
      "Created: C:\\Users\\nemet\\OneDrive\\Dokumentumok\\Databricks\\introduction-to-python-for-data-science-and-data-engineering-english\\Solutions\\ITP 05 - Loops_export.ipynb\n",
      "Created: C:\\Users\\nemet\\OneDrive\\Dokumentumok\\Databricks\\introduction-to-python-for-data-science-and-data-engineering-english\\Solutions\\ITP 06 - Exceptions_export.ipynb\n",
      "Created: C:\\Users\\nemet\\OneDrive\\Dokumentumok\\Databricks\\introduction-to-python-for-data-science-and-data-engineering-english\\Solutions\\ITP 07 - Classes_export.ipynb\n",
      "Created: C:\\Users\\nemet\\OneDrive\\Dokumentumok\\Databricks\\introduction-to-python-for-data-science-and-data-engineering-english\\Solutions\\ITP 08 - Cloud Computing 101_export.ipynb\n",
      "Created: C:\\Users\\nemet\\OneDrive\\Dokumentumok\\Databricks\\introduction-to-python-for-data-science-and-data-engineering-english\\Solutions\\ITP 09 - Libraries_export.ipynb\n",
      "Created: C:\\Users\\nemet\\OneDrive\\Dokumentumok\\Databricks\\introduction-to-python-for-data-science-and-data-engineering-english\\Solutions\\ITP 10 - Pandas Overview_export.ipynb\n",
      "Created: C:\\Users\\nemet\\OneDrive\\Dokumentumok\\Databricks\\introduction-to-python-for-data-science-and-data-engineering-english\\Solutions\\ITP 11 - Advanced Pandas_export.ipynb\n",
      "Created: C:\\Users\\nemet\\OneDrive\\Dokumentumok\\Databricks\\introduction-to-python-for-data-science-and-data-engineering-english\\Solutions\\ITP 12 - Data Visualization_export.ipynb\n",
      "Created: C:\\Users\\nemet\\OneDrive\\Dokumentumok\\Databricks\\introduction-to-python-for-data-science-and-data-engineering-english\\Solutions\\ITP 13 - Scaling Pandas with Spark_export.ipynb\n",
      "Created: C:\\Users\\nemet\\OneDrive\\Dokumentumok\\Databricks\\introduction-to-python-for-data-science-and-data-engineering-english\\Solutions\\ITP 14 - Additional Resources_export.ipynb\n",
      "Created: C:\\Users\\nemet\\OneDrive\\Dokumentumok\\Databricks\\introduction-to-python-for-data-science-and-data-engineering-english\\Solutions\\Version Info_export.ipynb\n",
      "Created: C:\\Users\\nemet\\OneDrive\\Dokumentumok\\Databricks\\introduction-to-python-for-data-science-and-data-engineering-english\\Solutions\\Includes\\Classroom-Setup_export.ipynb\n",
      "Created: C:\\Users\\nemet\\OneDrive\\Dokumentumok\\Databricks\\introduction-to-python-for-data-science-and-data-engineering-english\\Solutions\\Includes\\Print-Dataset-Copyrights_export.ipynb\n",
      "Created: C:\\Users\\nemet\\OneDrive\\Dokumentumok\\Databricks\\introduction-to-python-for-data-science-and-data-engineering-english\\Solutions\\Includes\\run_example_export.ipynb\n",
      "Created: C:\\Users\\nemet\\OneDrive\\Dokumentumok\\Databricks\\introduction-to-python-for-data-science-and-data-engineering-english\\Solutions\\Includes\\_common_export.ipynb\n"
     ]
    },
    {
     "name": "stdout",
     "output_type": "stream",
     "text": [
      "Created: C:\\Users\\nemet\\OneDrive\\Dokumentumok\\Databricks\\introduction-to-python-for-data-science-and-data-engineering-english\\Solutions\\Includes\\_dataset_index_export.ipynb\n",
      "Created: C:\\Users\\nemet\\OneDrive\\Dokumentumok\\Databricks\\introduction-to-python-for-data-science-and-data-engineering-english\\Solutions\\Labs\\ITP 01L - Data Types and Variables Lab_export.ipynb\n",
      "Created: C:\\Users\\nemet\\OneDrive\\Dokumentumok\\Databricks\\introduction-to-python-for-data-science-and-data-engineering-english\\Solutions\\Labs\\ITP 02L - Control Flow Lab_export.ipynb\n",
      "Created: C:\\Users\\nemet\\OneDrive\\Dokumentumok\\Databricks\\introduction-to-python-for-data-science-and-data-engineering-english\\Solutions\\Labs\\ITP 03L - Functions Lab_export.ipynb\n",
      "Created: C:\\Users\\nemet\\OneDrive\\Dokumentumok\\Databricks\\introduction-to-python-for-data-science-and-data-engineering-english\\Solutions\\Labs\\ITP 04L - Collection Types and Methods Lab_export.ipynb\n",
      "Created: C:\\Users\\nemet\\OneDrive\\Dokumentumok\\Databricks\\introduction-to-python-for-data-science-and-data-engineering-english\\Solutions\\Labs\\ITP 05L - Loops Lab_export.ipynb\n",
      "Created: C:\\Users\\nemet\\OneDrive\\Dokumentumok\\Databricks\\introduction-to-python-for-data-science-and-data-engineering-english\\Solutions\\Labs\\ITP 07L - Classes Lab_export.ipynb\n",
      "Created: C:\\Users\\nemet\\OneDrive\\Dokumentumok\\Databricks\\introduction-to-python-for-data-science-and-data-engineering-english\\Solutions\\Labs\\ITP 10L - Pandas Overview Lab_export.ipynb\n",
      "Created: C:\\Users\\nemet\\OneDrive\\Dokumentumok\\Databricks\\introduction-to-python-for-data-science-and-data-engineering-english\\Solutions\\Labs\\ITP 11L - Advanced Pandas Lab_export.ipynb\n",
      "Created: C:\\Users\\nemet\\OneDrive\\Dokumentumok\\Databricks\\introduction-to-python-for-data-science-and-data-engineering-english\\Solutions\\Labs\\ITP 12L - Data Visualization Lab_export.ipynb\n"
     ]
    }
   ],
   "source": [
    "for fileToParse in filesToParse:\n",
    "    convertToIpynb(fileToParse)"
   ]
  },
  {
   "cell_type": "code",
   "execution_count": 133,
   "id": "496296d9",
   "metadata": {
    "collapsed": true
   },
   "outputs": [
    {
     "name": "stdout",
     "output_type": "stream",
     "text": [
      "*** The .tmp_dbc folder has been removed ***\n",
      "\n",
      "C:\\Users\\nemet\\OneDrive\\Dokumentumok\\GitHub\\dbc_to_ipynb_converter\\tmp_dbc\n"
     ]
    }
   ],
   "source": [
    "# Cleanup from current run\n",
    "directory_path = os.getcwd()\n",
    "\n",
    "tmpDir = os.path.join(directory_path,'tmp_dbc')\n",
    "\n",
    "if not os.path.isdir(tmpDir):\n",
    "    print('*** The .tmp_dbc folder not exists ***\\n')\n",
    "else:\n",
    "    shutil.rmtree(tmpDir)\n",
    "    print('*** The .tmp_dbc folder has been removed ***\\n')\n",
    "    print(os.path.join(directory_path,'tmp_dbc'))"
   ]
  }
 ],
 "metadata": {
  "kernelspec": {
   "display_name": "Python 3 (ipykernel)",
   "language": "python",
   "name": "python3"
  },
  "language_info": {
   "codemirror_mode": {
    "name": "ipython",
    "version": 3
   },
   "file_extension": ".py",
   "mimetype": "text/x-python",
   "name": "python",
   "nbconvert_exporter": "python",
   "pygments_lexer": "ipython3",
   "version": "3.9.12"
  }
 },
 "nbformat": 4,
 "nbformat_minor": 5
}
